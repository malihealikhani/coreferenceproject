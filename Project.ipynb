{
 "cells": [
  {
   "cell_type": "code",
   "execution_count": 10,
   "metadata": {
    "collapsed": true
   },
   "outputs": [],
   "source": [
    "import xml.etree.ElementTree as ET"
   ]
  },
  {
   "cell_type": "code",
   "execution_count": 65,
   "metadata": {
    "collapsed": true
   },
   "outputs": [],
   "source": [
    "#To start I am just using a8.crf to test things out\n",
    "devFile = \"./dev/a8.crf\""
   ]
  },
  {
   "cell_type": "code",
   "execution_count": 138,
   "metadata": {
    "collapsed": false
   },
   "outputs": [],
   "source": [
    "#Create XML structure\n",
    "tree = ET.parse(open(devFile))\n",
    "root = tree.getroot()\n",
    "#I'm not sure which is the best way to proceed, so I am using both a dictionary and a list\n",
    "coref = {}\n",
    "corefs = []\n",
    "#Populate the dictionary/list\n",
    "createCoref()"
   ]
  },
  {
   "cell_type": "code",
   "execution_count": 128,
   "metadata": {
    "collapsed": false
   },
   "outputs": [],
   "source": [
    "#Adds a REF value for the XML node with a specific ID\n",
    "def setReference(ID,REF):\n",
    "    for co in root.iter('COREF'):\n",
    "        coID = co.attrib['ID']\n",
    "        if coID == ID:\n",
    "            co.set('REF',REF)"
   ]
  },
  {
   "cell_type": "code",
   "execution_count": 131,
   "metadata": {
    "collapsed": true
   },
   "outputs": [],
   "source": [
    "setReference('1','5')"
   ]
  },
  {
   "cell_type": "code",
   "execution_count": 139,
   "metadata": {
    "collapsed": false
   },
   "outputs": [
    {
     "name": "stdout",
     "output_type": "stream",
     "text": [
      "{'ID': '1'} PANTEX\n",
      "{'ID': '2'} FLIGHTS\n",
      "{'ID': '4'} Federal Aviation Administration\n",
      "{'ID': '5'} the number\n",
      "{'ID': '7'} Pantex Weapons Plant\n",
      "{'ID': '8'} plutonium\n",
      "{'ID': '9'} FAA\n",
      "{'ID': '10'} passes\n",
      "{'ID': '11'} flight\n",
      "{'ID': '12'} the plant\n",
      "{'ID': '13'} Energy\n",
      "{'ID': '17'} Plutonium\n",
      "{'ID': '18'} a highly radioactive\n",
      "element\n",
      "{'ID': '20'} one chance in\n",
      "10 million\n",
      "{'ID': '21'} flight\n",
      "{'ID': '22'} this year\n",
      "{'ID': '23'} a safety board\n",
      "{'ID': '24'} Trish Neusch\n",
      "{'ID': '26'} Amarillo\n",
      "{'ID': '27'} the airport\n",
      "{'ID': '28'} there\n",
      "{'ID': '29'} these planes\n",
      "{'ID': '30'} the FAA air traffic manager\n",
      "{'ID': '34'} a ``manual count on a pad,''\n",
      "{'ID': '35'} That 60-day accounting\n",
      "{'ID': '36'} 25 planes a day\n",
      "{'ID': '39'} Pantex\n",
      "{'ID': '40'} the Energy Department\n",
      "{'ID': '41'} plutonium\n",
      "{'ID': '42'} the former weapons assembly plant\n",
      "{'ID': '43'} The Amarillo airport\n",
      "{'ID': '45'} McNulty\n",
      "{'ID': '47'} military planes\n",
      "{'ID': '48'} Texas\n",
      "{'ID': '49'} he\n",
      "{'ID': '50'} About 25 percent of the airport traffic\n",
      "{'ID': '53'} a flight pattern\n",
      "over the plutonium storage bunkers\n",
      "{'ID': '56'} McNulty\n",
      "{'ID': '57'} air traffic controllers\n",
      "{'ID': '79'} the bunkers\n",
      "{'ID': '59'} he\n",
      "{'ID': '60'} airport\n",
      "{'ID': '61'} the\n",
      "nuclear storage area\n",
      "{'ID': '62'} McNulty\n",
      "{'ID': '63'} he\n",
      "{'ID': '64'} VORTAC\n",
      "{'ID': '65'} Amarillo\n",
      "{'ID': '66'} he\n",
      "{'ID': '67'} McNulty\n",
      "{'ID': '68'} these planes\n",
      "{'ID': '69'} the plutonium area\n",
      "{'ID': '73'} Oklahoma\n",
      "{'ID': '74'} the plant\n",
      "{'ID': '75'} McNulty\n",
      "{'ID': '76'} They\n",
      "{'ID': '77'} 02-14-96\n"
     ]
    }
   ],
   "source": [
    "#Prints out the Corefs just to check the values\n",
    "for child in root:\n",
    "    print child.attrib, child.text"
   ]
  },
  {
   "cell_type": "code",
   "execution_count": 91,
   "metadata": {
    "collapsed": false
   },
   "outputs": [],
   "source": [
    "#Saving the full text of the file to fullText\n",
    "with open(devFile, 'r') as myfile:\n",
    "    fullText=myfile.read()"
   ]
  },
  {
   "cell_type": "code",
   "execution_count": 137,
   "metadata": {
    "collapsed": false
   },
   "outputs": [],
   "source": [
    "#Create the dictionary and the list of each coreference\n",
    "def createCoref():\n",
    "    global root\n",
    "    for child in root:\n",
    "        coref[str(child.get('ID'))] = child.text\n",
    "        corefs.append(child.text)"
   ]
  },
  {
   "cell_type": "code",
   "execution_count": 140,
   "metadata": {
    "collapsed": false
   },
   "outputs": [
    {
     "name": "stdout",
     "output_type": "stream",
     "text": [
      "McNulty\n",
      "02-14-96\n",
      "the former weapons assembly plant\n",
      "The Amarillo airport\n",
      "airport\n",
      "the\n",
      "nuclear storage area\n",
      "McNulty\n",
      "he\n",
      "VORTAC\n",
      "he\n",
      "he\n",
      "McNulty\n",
      "these planes\n",
      "the plutonium area\n",
      "a flight pattern\n",
      "over the plutonium storage bunkers\n",
      "Trish Neusch\n",
      "Amarillo\n",
      "the airport\n",
      "one chance in\n",
      "10 million\n",
      "flight\n",
      "this year\n",
      "a safety board\n",
      "military planes\n",
      "McNulty\n",
      "there\n",
      "these planes\n",
      "the Energy Department\n",
      "plutonium\n",
      "PANTEX\n",
      "FLIGHTS\n",
      "the number\n",
      "Federal Aviation Administration\n",
      "Pantex Weapons Plant\n",
      "FAA\n",
      "plutonium\n",
      "Pantex\n",
      "Amarillo\n",
      "They\n",
      "McNulty\n",
      "the plant\n",
      "Oklahoma\n",
      "the bunkers\n",
      "flight\n",
      "passes\n",
      "Energy\n",
      "the plant\n",
      "he\n",
      "Texas\n",
      "Plutonium\n",
      "a highly radioactive\n",
      "element\n",
      "air traffic controllers\n",
      "the FAA air traffic manager\n",
      "25 planes a day\n",
      "That 60-day accounting\n",
      "a ``manual count on a pad,''\n",
      "About 25 percent of the airport traffic\n"
     ]
    }
   ],
   "source": [
    "for cr in coref:\n",
    "    print coref[cr]"
   ]
  },
  {
   "cell_type": "code",
   "execution_count": 81,
   "metadata": {
    "collapsed": false
   },
   "outputs": [
    {
     "name": "stdout",
     "output_type": "stream",
     "text": [
      "PANTEX\n",
      "FLIGHTS\n",
      "Federal Aviation Administration\n",
      "the number\n",
      "Pantex Weapons Plant\n",
      "plutonium\n",
      "FAA\n",
      "passes\n",
      "flight\n",
      "the plant\n",
      "Energy\n",
      "Plutonium\n",
      "a highly radioactive\n",
      "element\n",
      "one chance in\n",
      "10 million\n",
      "flight\n",
      "this year\n",
      "a safety board\n",
      "Trish Neusch\n",
      "Amarillo\n",
      "the airport\n",
      "there\n",
      "these planes\n",
      "the FAA air traffic manager\n",
      "a ``manual count on a pad,''\n",
      "That 60-day accounting\n",
      "25 planes a day\n",
      "Pantex\n",
      "the Energy Department\n",
      "plutonium\n",
      "the former weapons assembly plant\n",
      "The Amarillo airport\n",
      "McNulty\n",
      "military planes\n",
      "Texas\n",
      "he\n",
      "About 25 percent of the airport traffic\n",
      "a flight pattern\n",
      "over the plutonium storage bunkers\n",
      "McNulty\n",
      "air traffic controllers\n",
      "the bunkers\n",
      "he\n",
      "airport\n",
      "the\n",
      "nuclear storage area\n",
      "McNulty\n",
      "he\n",
      "VORTAC\n",
      "Amarillo\n",
      "he\n",
      "McNulty\n",
      "these planes\n",
      "the plutonium area\n",
      "Oklahoma\n",
      "the plant\n",
      "McNulty\n",
      "They\n",
      "02-14-96\n"
     ]
    }
   ],
   "source": [
    "for cr in corefs:\n",
    "    print cr"
   ]
  },
  {
   "cell_type": "code",
   "execution_count": null,
   "metadata": {
    "collapsed": false
   },
   "outputs": [],
   "source": []
  },
  {
   "cell_type": "code",
   "execution_count": null,
   "metadata": {
    "collapsed": true
   },
   "outputs": [],
   "source": []
  }
 ],
 "metadata": {
  "kernelspec": {
   "display_name": "Python 2",
   "language": "python",
   "name": "python2"
  },
  "language_info": {
   "codemirror_mode": {
    "name": "ipython",
    "version": 2
   },
   "file_extension": ".py",
   "mimetype": "text/x-python",
   "name": "python",
   "nbconvert_exporter": "python",
   "pygments_lexer": "ipython2",
   "version": "2.7.11"
  }
 },
 "nbformat": 4,
 "nbformat_minor": 0
}
