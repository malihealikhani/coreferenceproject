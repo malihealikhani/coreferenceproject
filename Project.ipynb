{
 "cells": [
  {
   "cell_type": "code",
   "execution_count": 10,
   "metadata": {
    "collapsed": true
   },
   "outputs": [],
   "source": [
    "import xml.etree.ElementTree as ET"
   ]
  },
  {
   "cell_type": "code",
   "execution_count": 65,
   "metadata": {
    "collapsed": true
   },
   "outputs": [],
   "source": [
    "devFile = \"./dev/a8.crf\""
   ]
  },
  {
   "cell_type": "code",
   "execution_count": 83,
   "metadata": {
    "collapsed": false
   },
   "outputs": [],
   "source": [
    "tree = ET.parse(open(devFile))\n",
    "root = tree.getroot()\n",
    "coref = {}\n",
    "corefs = []"
   ]
  },
  {
   "cell_type": "code",
   "execution_count": 91,
   "metadata": {
    "collapsed": false
   },
   "outputs": [],
   "source": [
    "with open(devFile, 'r') as myfile:\n",
    "    fullText=myfile.read()"
   ]
  },
  {
   "cell_type": "code",
   "execution_count": 94,
   "metadata": {
    "collapsed": false
   },
   "outputs": [],
   "source": [
    "for child in root:\n",
    "    coref[str(child.get('ID'))] = child.text\n",
    "    corefs.append(child.text)"
   ]
  },
  {
   "cell_type": "code",
   "execution_count": 81,
   "metadata": {
    "collapsed": false
   },
   "outputs": [
    {
     "name": "stdout",
     "output_type": "stream",
     "text": [
      "PANTEX\n",
      "FLIGHTS\n",
      "Federal Aviation Administration\n",
      "the number\n",
      "Pantex Weapons Plant\n",
      "plutonium\n",
      "FAA\n",
      "passes\n",
      "flight\n",
      "the plant\n",
      "Energy\n",
      "Plutonium\n",
      "a highly radioactive\n",
      "element\n",
      "one chance in\n",
      "10 million\n",
      "flight\n",
      "this year\n",
      "a safety board\n",
      "Trish Neusch\n",
      "Amarillo\n",
      "the airport\n",
      "there\n",
      "these planes\n",
      "the FAA air traffic manager\n",
      "a ``manual count on a pad,''\n",
      "That 60-day accounting\n",
      "25 planes a day\n",
      "Pantex\n",
      "the Energy Department\n",
      "plutonium\n",
      "the former weapons assembly plant\n",
      "The Amarillo airport\n",
      "McNulty\n",
      "military planes\n",
      "Texas\n",
      "he\n",
      "About 25 percent of the airport traffic\n",
      "a flight pattern\n",
      "over the plutonium storage bunkers\n",
      "McNulty\n",
      "air traffic controllers\n",
      "the bunkers\n",
      "he\n",
      "airport\n",
      "the\n",
      "nuclear storage area\n",
      "McNulty\n",
      "he\n",
      "VORTAC\n",
      "Amarillo\n",
      "he\n",
      "McNulty\n",
      "these planes\n",
      "the plutonium area\n",
      "Oklahoma\n",
      "the plant\n",
      "McNulty\n",
      "They\n",
      "02-14-96\n"
     ]
    }
   ],
   "source": [
    "for cr in corefs:\n",
    "    print cr"
   ]
  },
  {
   "cell_type": "code",
   "execution_count": null,
   "metadata": {
    "collapsed": false
   },
   "outputs": [],
   "source": []
  },
  {
   "cell_type": "code",
   "execution_count": null,
   "metadata": {
    "collapsed": true
   },
   "outputs": [],
   "source": []
  }
 ],
 "metadata": {
  "kernelspec": {
   "display_name": "Python 2",
   "language": "python",
   "name": "python2"
  },
  "language_info": {
   "codemirror_mode": {
    "name": "ipython",
    "version": 2
   },
   "file_extension": ".py",
   "mimetype": "text/x-python",
   "name": "python",
   "nbconvert_exporter": "python",
   "pygments_lexer": "ipython2",
   "version": "2.7.11"
  }
 },
 "nbformat": 4,
 "nbformat_minor": 0
}
