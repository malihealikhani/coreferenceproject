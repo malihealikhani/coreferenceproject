{
 "cells": [
  {
   "cell_type": "code",
   "execution_count": 31,
   "metadata": {
    "collapsed": true
   },
   "outputs": [],
   "source": [
    "#XML Library\n",
    "import xml.etree.ElementTree as ET\n",
    "#Natural Language Toolkit\n",
    "import nltk\n",
    "from nltk import pos_tag, word_tokenize"
   ]
  },
  {
   "cell_type": "code",
   "execution_count": 34,
   "metadata": {
    "collapsed": true
   },
   "outputs": [],
   "source": [
    "#To start I am just using a8.crf to test things out\n",
    "devFile = \"./dev/a8.crf\""
   ]
  },
  {
   "cell_type": "code",
   "execution_count": 35,
   "metadata": {
    "collapsed": false
   },
   "outputs": [],
   "source": [
    "#Create XML structure\n",
    "tree = ET.parse(open(devFile))\n",
    "tree1 = ET.parse(devFile)\n",
    "root = tree.getroot()\n",
    "\n",
    "###To remove all XML tags, it just takes this one line\n",
    "notags = ET.tostring(root, encoding='utf8', method='text')"
   ]
  },
  {
   "cell_type": "code",
   "execution_count": 42,
   "metadata": {
    "collapsed": false
   },
   "outputs": [],
   "source": [
    "#tagged_text is a multidimensional array with each word and its POS tag\n",
    "tagged_text = nltk.pos_tag(word_tokenize(notags))"
   ]
  },
  {
   "cell_type": "code",
   "execution_count": 45,
   "metadata": {
    "collapsed": false
   },
   "outputs": [],
   "source": [
    "#These are all of the NLTK tags that deal with nouns and pronouns\n",
    "noun_tags = [\"NN\",\"NNS\",\"NNPS\",\"PRP\",\"PRP$\",\"WP\",\"WP$\"]    \n",
    "\n",
    "candidate_words = []\n",
    "\n",
    "#Create a list of words in the text that are nouns/pronouns\n",
    "for word in tagged_text:\n",
    "    if word[1] in noun_tags:\n",
    "        candidate_words.append(word[0])"
   ]
  },
  {
   "cell_type": "code",
   "execution_count": 46,
   "metadata": {
    "collapsed": false
   },
   "outputs": [
    {
     "name": "stdout",
     "output_type": "stream",
     "text": [
      "['use', 'clients', 'c.1996', 'number', 'aircraft', 'nation', 'plutonium', 'studies', 'way', 'flight', 'training', 'planes', 'passes', 'flight', 'plant', 'secretary', 'farmers', 'concern', 'plane', 'crash', 'plutonium', 'storage', 'bunker', 'smoke', 'miles', 'Plutonium', 'element', 'cancer', 'risk', 'scenario', 'chance', 'flight', 'data', 'year', 'safety', 'board', 'memo', 'me', 'who', 'land', 'plant', 'miles', 'miles', 'airport', 'We', 'planes', 'time', 'air', 'traffic', 'manager', 'aircraft', 'count', 'count', 'pad', 'air', 'traffic', 'controllers', 'accounting', 'planes', 'day', 'flight', 'patterns', 'zone', 'plutonium', 'bunkers', 'earth', 'grass', 'contractor', 'workers', 'whose', 'mission', 'warheads', 'plutonium', 'ball', 'core', 'weapon', 'weapons', 'assembly', 'plant', 'airport', 'averages', 'takeoffs', 'landings', 'day', 'aircraft', 'planes', 'bases', 'he', 'percent', 'airport', 'traffic', 'flight', 'pattern', 'plutonium', 'storage', 'bunkers', 'months', 'air', 'traffic', 'controllers', 'planes', 'bunkers', 'he', 'airport', 'dozen', 'flight', 'paths', 'storage', 'area', 'approach', 'summer', 'fall', 'instrument', 'landing', 'system', 'he', 'flight', 'path', 'equipment', 'he', 'target', 'date', 'transition', 'dangers', 'traffic', 'planes', 'altitudes', 'miles', 'plutonium', 'area', 'They', 'something', 'feet', 'actuality', 'plane', 'plant', 'They', 'lot', 'data']\n"
     ]
    }
   ],
   "source": [
    "#Checking to see if candidate_words is populated\n",
    "print candidate_words"
   ]
  },
  {
   "cell_type": "code",
   "execution_count": 43,
   "metadata": {
    "collapsed": false
   },
   "outputs": [
    {
     "name": "stdout",
     "output_type": "stream",
     "text": [
      "[('nyt960214.0765', 'JJ'), ('A4505', 'NNP'), ('BC-PANTEX-FLIGHTS-TEX', 'NNP'), ('02-14', 'JJ'), ('0535', 'CD'), ('BC-PANTEX-FLIGHTS-TEX', 'NNP'), ('FAA', 'NNP'), ('UNDERESTIMATED', 'NNP'), ('NUMBER', 'NNP'), ('OF', 'NNP'), ('FLIGHTS', 'NNP'), ('OVER', 'NNP'), ('PLUTONIUM', 'NNP'), ('STORAGE', 'NNP'), ('AREA', 'NNP'), ('IN', 'NNP'), ('PANHANDLE', 'NNP'), ('(', '('), ('For', 'IN'), ('use', 'NN'), ('by', 'IN'), ('NYTimes', 'NNP'), ('News', 'NNP'), ('Service', 'NNP'), ('clients', 'NNS'), (')', ')'), ('By', 'IN'), ('HOLLACE', 'NNP'), ('WEINER', 'NNP'), ('c.1996', 'NN'), ('Fort', 'NNP'), ('Worth', 'NNP'), ('Star-Telegram', 'NNP'), ('The', 'DT'), ('Federal', 'NNP'), ('Aviation', 'NNP'), ('Administration', 'NNP'), ('underestimated', 'VBD'), ('the', 'DT'), ('number', 'NN'), ('of', 'IN'), ('aircraft', 'NN'), ('flying', 'VBG'), ('over', 'IN'), ('the', 'DT'), ('Pantex', 'NNP'), ('Weapons', 'NNP'), ('Plant', 'NNP'), ('outside', 'IN'), ('Amarillo', 'NNP'), (',', ','), ('Texas', 'NNP'), (',', ','), ('where', 'WRB'), ('much', 'RB'), ('of', 'IN'), ('the', 'DT'), ('nation', 'NN'), (\"'s\", 'POS'), ('surplus', 'JJ'), ('plutonium', 'NN'), ('is', 'VBZ'), ('stored', 'VBN'), (',', ','), ('according', 'VBG'), ('to', 'TO'), ('computerized', 'JJ'), ('studies', 'NNS'), ('under', 'IN'), ('way', 'NN'), ('by', 'IN'), ('the', 'DT'), ('Energy', 'NNP'), ('Department', 'NNP'), ('.', '.'), ('The', 'DT'), ('FAA', 'NNP'), ('counted', 'VBD'), ('each', 'DT'), ('flight', 'NN'), ('at', 'IN'), ('Amarillo', 'NNP'), ('International', 'NNP'), ('Airport', 'NNP'), ('once', 'RB'), ('.', '.'), ('But', 'CC'), ('military', 'JJ'), ('training', 'NN'), ('planes', 'NNS'), ('make', 'VBP'), ('up', 'RB'), ('to', 'TO'), ('30', 'CD'), ('passes', 'NNS'), ('per', 'IN'), ('flight', 'NN'), ('over', 'IN'), ('the', 'DT'), ('plant', 'NN'), (',', ','), ('according', 'VBG'), ('to', 'TO'), ('the', 'DT'), ('Defense', 'NNP'), ('Nuclear', 'NNP'), ('Facilities', 'NNP'), ('Safety', 'NNP'), ('Board', 'NNP'), ('.', '.'), ('The', 'DT'), ('secretary', 'NN'), ('of', 'IN'), ('Energy', 'NNP'), ('and', 'CC'), ('local', 'JJ'), ('farmers', 'NNS'), ('have', 'VBP'), ('expressed', 'VBN'), ('concern', 'NN'), ('that', 'IN'), ('a', 'DT'), ('plane', 'NN'), ('crash', 'NN'), ('into', 'IN'), ('a', 'DT'), ('plutonium', 'NN'), ('storage', 'NN'), ('bunker', 'NN'), ('at', 'IN'), ('Pantex', 'NNP'), ('could', 'MD'), ('spread', 'VB'), ('radioactive', 'JJ'), ('smoke', 'NN'), ('for', 'IN'), ('miles', 'NNS'), ('.', '.'), ('Plutonium', 'NN'), (',', ','), ('a', 'DT'), ('highly', 'RB'), ('radioactive', 'JJ'), ('element', 'NN'), (',', ','), ('causes', 'VBZ'), ('cancer', 'NN'), ('if', 'IN'), ('inhaled', 'VBN'), ('.', '.'), ('The', 'DT'), ('risk', 'NN'), ('of', 'IN'), ('that', 'DT'), ('scenario', 'NN'), (',', ','), ('previously', 'RB'), ('estimated', 'VBN'), ('at', 'IN'), ('one', 'CD'), ('chance', 'NN'), ('in', 'IN'), ('10', 'CD'), ('million', 'CD'), (',', ','), ('is', 'VBZ'), ('expected', 'VBN'), ('to', 'TO'), ('increase', 'VB'), ('when', 'WRB'), ('current', 'JJ'), ('flight', 'NN'), ('data', 'NNS'), ('are', 'VBP'), ('analyzed', 'VBN'), ('later', 'RBR'), ('this', 'DT'), ('year', 'NN'), (',', ','), ('according', 'VBG'), ('to', 'TO'), ('a', 'DT'), ('safety', 'NN'), ('board', 'NN'), ('memo', 'NN'), ('dated', 'VBD'), ('May', 'NNP'), ('2', 'CD'), ('.', '.'), ('``', '``'), ('This', 'DT'), ('does', 'VBZ'), (\"n't\", 'RB'), ('surprise', 'VB'), ('me', 'PRP'), ('at', 'IN'), ('all', 'DT'), (',', ','), (\"''\", \"''\"), ('said', 'VBD'), ('Trish', 'NNP'), ('Neusch', 'NNP'), (',', ','), ('who', 'WP'), ('farms', 'VBZ'), ('land', 'NN'), ('near', 'IN'), ('the', 'DT'), ('plant', 'NN'), ('17', 'CD'), ('miles', 'NNS'), ('northeast', 'RB'), ('of', 'IN'), ('Amarillo', 'NNP'), ('and', 'CC'), ('7', 'CD'), ('miles', 'NNS'), ('from', 'IN'), ('the', 'DT'), ('airport', 'NN'), ('.', '.'), ('``', '``'), ('We', 'PRP'), ('are', 'VBP'), ('out', 'IN'), ('there', 'RB'), ('and', 'CC'), ('see', 'VB'), ('these', 'DT'), ('planes', 'NNS'), ('all', 'PDT'), ('the', 'DT'), ('time', 'NN'), ('.', '.'), (\"''\", \"''\"), ('Mike', 'NNP'), ('McNulty', 'NNP'), (',', ','), ('the', 'DT'), ('FAA', 'NNP'), ('air', 'NN'), ('traffic', 'NN'), ('manager', 'NN'), ('at', 'IN'), ('Amarillo', 'NNP'), ('International', 'NNP'), (',', ','), ('said', 'VBD'), ('the', 'DT'), ('previous', 'JJ'), ('aircraft', 'NN'), ('count', 'NN'), (',', ','), ('conducted', 'VBN'), ('in', 'IN'), ('late', 'JJ'), ('1994', 'CD'), (',', ','), ('was', 'VBD'), ('a', 'DT'), ('``', '``'), ('manual', 'JJ'), ('count', 'NN'), ('on', 'IN'), ('a', 'DT'), ('pad', 'NN'), (',', ','), (\"''\", \"''\"), ('done', 'VBN'), ('informally', 'RB'), ('by', 'IN'), ('air', 'NN'), ('traffic', 'NN'), ('controllers', 'NNS'), ('.', '.'), ('That', 'DT'), ('60-day', 'JJ'), ('accounting', 'NN'), ('estimated', 'VBD'), ('that', 'IN'), ('25', 'CD'), ('planes', 'NNS'), ('a', 'DT'), ('day', 'NN'), ('entered', 'VBD'), ('flight', 'NN'), ('patterns', 'NNS'), ('over', 'IN'), ('the', 'DT'), ('zone', 'NN'), ('where', 'WRB'), ('plutonium', 'NN'), ('is', 'VBZ'), ('stored', 'VBN'), ('in', 'IN'), ('concrete', 'JJ'), ('bunkers', 'NNS'), ('covered', 'VBN'), ('with', 'IN'), ('earth', 'NN'), ('and', 'CC'), ('grass', 'NN'), ('.', '.'), ('Pantex', 'NNP'), ('is', 'VBZ'), ('operated', 'VBN'), ('by', 'IN'), ('the', 'DT'), ('Energy', 'NNP'), ('Department', 'NNP'), ('through', 'IN'), ('a', 'DT'), ('private', 'JJ'), ('contractor', 'NN'), ('and', 'CC'), ('employs', 'VBZ'), ('3,600', 'CD'), ('workers', 'NNS'), (',', ','), ('whose', 'WP$'), ('main', 'JJ'), ('mission', 'NN'), ('is', 'VBZ'), ('to', 'TO'), ('dismantle', 'VB'), ('nuclear', 'JJ'), ('warheads', 'NNS'), ('.', '.'), ('The', 'DT'), ('hollow', 'JJ'), ('plutonium', 'NN'), ('ball', 'NN'), ('at', 'IN'), ('the', 'DT'), ('core', 'NN'), ('of', 'IN'), ('each', 'DT'), ('weapon', 'NN'), ('is', 'VBZ'), ('stored', 'VBN'), ('at', 'IN'), ('the', 'DT'), ('former', 'JJ'), ('weapons', 'NNS'), ('assembly', 'NN'), ('plant', 'NN'), ('.', '.'), ('The', 'DT'), ('Amarillo', 'NNP'), ('airport', 'NN'), ('averages', 'NNS'), ('250', 'CD'), ('takeoffs', 'NNS'), ('and', 'CC'), ('landings', 'NNS'), ('per', 'IN'), ('day', 'NN'), (',', ','), ('McNulty', 'NNP'), ('said', 'VBD'), ('.', '.'), ('About', 'IN'), ('half', 'PDT'), ('the', 'DT'), ('aircraft', 'NN'), ('are', 'VBP'), ('military', 'JJ'), ('planes', 'NNS'), ('assigned', 'VBN'), ('to', 'TO'), ('Air', 'NNP'), ('Force', 'NNP'), ('bases', 'NNS'), ('in', 'IN'), ('Texas', 'NNP'), (',', ','), ('Oklahoma', 'NNP'), (',', ','), ('Kansas', 'NNP'), ('and', 'CC'), ('New', 'NNP'), ('Mexico', 'NNP'), (',', ','), ('he', 'PRP'), ('said', 'VBD'), ('.', '.'), ('About', 'IN'), ('25', 'CD'), ('percent', 'NN'), ('of', 'IN'), ('the', 'DT'), ('airport', 'NN'), ('traffic', 'NN'), ('enters', 'VBZ'), ('a', 'DT'), ('flight', 'NN'), ('pattern', 'NN'), ('over', 'IN'), ('the', 'DT'), ('plutonium', 'NN'), ('storage', 'NN'), ('bunkers', 'NNS'), (',', ','), ('McNulty', 'NNP'), ('said', 'VBD'), ('.', '.'), ('For', 'IN'), ('the', 'DT'), ('past', 'JJ'), ('14', 'CD'), ('months', 'NNS'), (',', ','), ('air', 'NN'), ('traffic', 'NN'), ('controllers', 'NNS'), ('have', 'VBP'), ('tried', 'VBN'), ('to', 'TO'), ('steer', 'VB'), ('planes', 'NNS'), ('away', 'RB'), ('from', 'IN'), ('the', 'DT'), ('bunkers', 'NNS'), (',', ','), ('he', 'PRP'), ('said', 'VBD'), ('.', '.'), ('Two', 'CD'), ('of', 'IN'), ('the', 'DT'), ('airport', 'NN'), (\"'s\", 'POS'), ('dozen', 'NN'), ('flight', 'NN'), ('paths', 'NNS'), ('are', 'VBP'), ('directly', 'RB'), ('above', 'IN'), ('the', 'DT'), ('nuclear', 'JJ'), ('storage', 'NN'), ('area', 'NN'), (',', ','), ('McNulty', 'NNP'), ('said', 'VBD'), ('.', '.'), ('One', 'CD'), ('approach', 'NN'), ('will', 'MD'), ('be', 'VB'), ('eliminated', 'VBN'), ('by', 'IN'), ('late', 'JJ'), ('summer', 'NN'), ('or', 'CC'), ('early', 'JJ'), ('fall', 'NN'), ('when', 'WRB'), ('a', 'DT'), ('new', 'JJ'), ('instrument', 'NN'), ('landing', 'NN'), ('system', 'NN'), ('is', 'VBZ'), ('installed', 'VBN'), (',', ','), ('he', 'PRP'), ('said', 'VBD'), ('.', '.'), ('The', 'DT'), ('second', 'JJ'), ('flight', 'NN'), ('path', 'NN'), ('can', 'MD'), ('not', 'RB'), ('be', 'VB'), ('altered', 'VBN'), ('until', 'IN'), ('sophisticated', 'JJ'), ('equipment', 'NN'), (',', ','), ('called', 'VBN'), ('VORTAC', 'NNP'), (',', ','), ('is', 'VBZ'), ('phased', 'VBN'), ('out', 'RP'), ('at', 'IN'), ('Dallas/Fort', 'NNP'), ('Worth', 'NNP'), ('Airport', 'NNP'), ('and', 'CC'), ('installed', 'VBN'), ('in', 'IN'), ('Amarillo', 'NNP'), (',', ','), ('he', 'PRP'), ('said', 'VBD'), ('.', '.'), ('There', 'EX'), ('is', 'VBZ'), ('no', 'DT'), ('target', 'NN'), ('date', 'NN'), ('for', 'IN'), ('the', 'DT'), ('transition', 'NN'), ('.', '.'), ('McNulty', 'NNP'), ('downplayed', 'VBD'), ('the', 'DT'), ('dangers', 'NNS'), ('posed', 'VBN'), ('by', 'IN'), ('some', 'DT'), ('military', 'JJ'), ('traffic', 'NN'), ('by', 'IN'), ('noting', 'VBG'), ('that', 'IN'), ('these', 'DT'), ('planes', 'NNS'), ('often', 'RB'), ('fly', 'VBP'), ('at', 'IN'), ('high', 'JJ'), ('altitudes', 'NNS'), ('and', 'CC'), ('stay', 'VB'), ('2', 'CD'), ('to', 'TO'), ('8', 'CD'), ('miles', 'NNS'), ('from', 'IN'), ('the', 'DT'), ('plutonium', 'NN'), ('area', 'NN'), ('.', '.'), ('``', '``'), ('They', 'PRP'), ('are', 'VBP'), ('counting', 'VBG'), ('something', 'NN'), ('at', 'IN'), ('35,000', 'CD'), ('as', 'RB'), ('well', 'RB'), ('as', 'IN'), ('500', 'CD'), ('feet', 'NNS'), (',', ','), ('when', 'WRB'), ('in', 'IN'), ('actuality', 'NN'), ('a', 'DT'), ('plane', 'NN'), ('would', 'MD'), ('have', 'VB'), ('to', 'TO'), ('start', 'VB'), ('falling', 'VBG'), ('in', 'IN'), ('Oklahoma', 'NNP'), ('to', 'TO'), ('hit', 'VB'), ('the', 'DT'), ('plant', 'NN'), (',', ','), (\"''\", \"''\"), ('McNulty', 'NNP'), ('said', 'VBD'), ('.', '.'), ('``', '``'), ('They', 'PRP'), ('are', 'VBP'), ('just', 'RB'), ('collecting', 'VBG'), ('a', 'DT'), ('lot', 'NN'), ('of', 'IN'), ('raw', 'JJ'), ('data', 'NNS'), ('.', '.'), (\"''\", \"''\"), ('NYT-02-14-96', 'JJ'), ('2111EST', 'CD')]\n"
     ]
    }
   ],
   "source": [
    "#Print the contents of tagged_text just to see that it is working\n",
    "print tagged_text"
   ]
  },
  {
   "cell_type": "markdown",
   "metadata": {},
   "source": [
    "The slides on coreference contain the following:\n",
    "Typical Coreference Pipeline\n",
    "-Preprocessor: XML removal, tokenization, sentence and paragraph splitting\n",
    "-Part of Speech Tagging\n",
    "-Parsing\n",
    "-Named Entity Recognizer\n",
    "-Semantic Class Lookup (usualy via WordNet)\n",
    "-Candidate NP extraction\n",
    "-Supervised Learning\n",
    "-Clustering into Chains"
   ]
  },
  {
   "cell_type": "code",
   "execution_count": 4,
   "metadata": {
    "collapsed": true
   },
   "outputs": [],
   "source": [
    "#Part of Speech Tagging to Identify Nouns, Noun Phrases, and Pronouns"
   ]
  },
  {
   "cell_type": "code",
   "execution_count": 5,
   "metadata": {
    "collapsed": true
   },
   "outputs": [],
   "source": [
    "#Create a dictionary and the list of each coreference\n",
    "#I'm not sure which is more practical or if either is even needed\n",
    "def createCoref():\n",
    "    global root\n",
    "    for child in root:\n",
    "        coref[str(child.get('ID'))] = child.text\n",
    "        corefs.append(child.text)"
   ]
  },
  {
   "cell_type": "code",
   "execution_count": 12,
   "metadata": {
    "collapsed": false
   },
   "outputs": [
    {
     "name": "stdout",
     "output_type": "stream",
     "text": [
      "['PANTEX', 'FLIGHTS', 'Federal Aviation Administration', 'the number', 'Pantex Weapons Plant', 'plutonium', 'FAA', 'passes', 'flight', 'the plant', 'Energy', 'Plutonium', 'a highly radioactive\\nelement', 'one chance in\\n10 million', 'flight', 'this year', 'a safety board', 'Trish Neusch', 'Amarillo', 'the airport', 'there', 'these planes', 'the FAA air traffic manager', \"a ``manual count on a pad,''\", 'That 60-day accounting', '25 planes a day', 'Pantex', 'the Energy Department', 'plutonium', 'the former weapons assembly plant', 'The Amarillo airport', 'McNulty', 'military planes', 'Texas', 'he', 'About 25 percent of the airport traffic', 'a flight pattern\\nover the plutonium storage bunkers', 'McNulty', 'air traffic controllers', 'the bunkers', 'he', 'airport', 'the\\nnuclear storage area', 'McNulty', 'he', 'VORTAC', 'Amarillo', 'he', 'McNulty', 'these planes', 'the plutonium area', 'Oklahoma', 'the plant', 'McNulty', 'They', '02-14-96']\n"
     ]
    }
   ],
   "source": [
    "print corefs"
   ]
  },
  {
   "cell_type": "code",
   "execution_count": 6,
   "metadata": {
    "collapsed": true
   },
   "outputs": [],
   "source": [
    "#Given text and the coref ID, checks to see if any other coref has the exact same text\n",
    "#If so, sets found to True and sets REF to the ID of the coreference that it matches\n",
    "def checkExactMatch(coRefText, coID):\n",
    "    for cr in coref:\n",
    "        if coref[cr] == coRefText and str(cr) != coID:\n",
    "            #print \"have a match\"\n",
    "            #print \"the coRefText is: \" + coRefText + \" the coID is: \" + coID + \" the matched is \" + cr\n",
    "            global REF\n",
    "            global found \n",
    "            found = True\n",
    "            REF = cr"
   ]
  },
  {
   "cell_type": "code",
   "execution_count": null,
   "metadata": {
    "collapsed": false
   },
   "outputs": [],
   "source": []
  },
  {
   "cell_type": "code",
   "execution_count": 20,
   "metadata": {
    "collapsed": false
   },
   "outputs": [],
   "source": [
    "#Checks to see if the coref has potential for an acronym (actually an initialism) \n",
    "#and if that acronym is used\n",
    "def checkAcronym(coRefText):\n",
    "    #Check if the coref is all caps\n",
    "    skip = [\"and\",\"or\",\"in\",\"of\",\"&\"]\n",
    "    if coRefText.isupper():\n",
    "        #check list of corefs to see if any of them could match\n",
    "        for cr in coref:\n",
    "            words = str(coref[cr])\n",
    "            acr = \"\"\n",
    "            acr2 = \"\"\n",
    "            #check if coref is more than one word\n",
    "            if len(words.split()) > 1:\n",
    "                #Get the first letter of each word and build candidate acronym\n",
    "                for word in words.split():\n",
    "                    if not(word.lower() in skip):\n",
    "                        acr += word[0]\n",
    "                    acr2 += word[0]\n",
    "                #If candidate acronym matches coref, assign the REF\n",
    "                if acr == coRefText or acr2 == coRefText:\n",
    "                    global REF\n",
    "                    global found\n",
    "                    found = True\n",
    "                    REF = cr\n",
    "                    print acr\n",
    "                    print acr2"
   ]
  },
  {
   "cell_type": "code",
   "execution_count": 8,
   "metadata": {
    "collapsed": true
   },
   "outputs": [],
   "source": [
    "#Create Coref variables\n",
    "coref = {}\n",
    "corefs = []\n",
    "createCoref()"
   ]
  },
  {
   "cell_type": "code",
   "execution_count": 9,
   "metadata": {
    "collapsed": false
   },
   "outputs": [
    {
     "ename": "NameError",
     "evalue": "name 'root' is not defined",
     "output_type": "error",
     "traceback": [
      "\u001b[0;31m---------------------------------------------------------------------------\u001b[0m",
      "\u001b[0;31mNameError\u001b[0m                                 Traceback (most recent call last)",
      "\u001b[0;32m<ipython-input-9-7877dd7a8280>\u001b[0m in \u001b[0;36m<module>\u001b[0;34m()\u001b[0m\n\u001b[1;32m      1\u001b[0m \u001b[0;31m#Loop through each coref to assign ref\u001b[0m\u001b[0;34m\u001b[0m\u001b[0;34m\u001b[0m\u001b[0m\n\u001b[0;32m----> 2\u001b[0;31m \u001b[0;32mfor\u001b[0m \u001b[0mco\u001b[0m \u001b[0;32min\u001b[0m \u001b[0mroot\u001b[0m\u001b[0;34m.\u001b[0m\u001b[0miter\u001b[0m\u001b[0;34m(\u001b[0m\u001b[0;34m'COREF'\u001b[0m\u001b[0;34m)\u001b[0m\u001b[0;34m:\u001b[0m\u001b[0;34m\u001b[0m\u001b[0m\n\u001b[0m\u001b[1;32m      3\u001b[0m     \u001b[0mcoID\u001b[0m \u001b[0;34m=\u001b[0m \u001b[0mco\u001b[0m\u001b[0;34m.\u001b[0m\u001b[0mattrib\u001b[0m\u001b[0;34m[\u001b[0m\u001b[0;34m'ID'\u001b[0m\u001b[0;34m]\u001b[0m\u001b[0;34m\u001b[0m\u001b[0m\n\u001b[1;32m      4\u001b[0m     \u001b[0mcoRefText\u001b[0m \u001b[0;34m=\u001b[0m \u001b[0mco\u001b[0m\u001b[0;34m.\u001b[0m\u001b[0mtext\u001b[0m\u001b[0;34m\u001b[0m\u001b[0m\n\u001b[1;32m      5\u001b[0m     \u001b[0mREF\u001b[0m \u001b[0;34m=\u001b[0m \u001b[0;34m''\u001b[0m\u001b[0;34m\u001b[0m\u001b[0m\n",
      "\u001b[0;31mNameError\u001b[0m: name 'root' is not defined"
     ]
    }
   ],
   "source": [
    "#Loop through each coref to assign ref\n",
    "for co in root.iter('COREF'):\n",
    "    coID = co.attrib['ID']\n",
    "    coRefText = co.text\n",
    "    REF = ''\n",
    "    found = False\n",
    "    \n",
    "    # Find the correct REF\n",
    "    \n",
    "    #### Check String Match ####\n",
    "    # check exact match in other corefs\n",
    "    checkExactMatch(coRefText, coID)\n",
    "    if found == True:\n",
    "        co.set('REF',REF)\n",
    "        continue \n",
    "    \n",
    "    #check acronyms\n",
    "    checkAcronym(coRefText)\n",
    "    if found == True:\n",
    "        co.set('REF',REF)\n",
    "        continue \n",
    "    # check head noun match\n",
    "    # check substring and partial match\n",
    "    # check word overlap comparisons\n",
    "    \n",
    "    #### Check Lexical Similarity\n",
    "    # i.e. Ford Motor Company = Ford Co. = Ford\n",
    "    # i.e. Apple Computer = Apple\n",
    "    # i.e. Federabl Bureau of Investigation = FBI\n",
    "    \n",
    "    #### Look through candidate list of Nouns checking using\n",
    "    # scoping heuristics and recency\n",
    "    # number, person, and gender agreement\n",
    "    # sytactic heuristics\n",
    "    # semantic compatability\n",
    "    \n",
    "    # Set the REF value\n",
    "    "
   ]
  },
  {
   "cell_type": "code",
   "execution_count": null,
   "metadata": {
    "collapsed": false
   },
   "outputs": [],
   "source": []
  },
  {
   "cell_type": "code",
   "execution_count": 10,
   "metadata": {
    "collapsed": false
   },
   "outputs": [
    {
     "name": "stdout",
     "output_type": "stream",
     "text": [
      "<TXT>\n",
      " nyt960214.0765 \n",
      " A4505 \n",
      " BC-PANTEX-FLIGHTS-TEX \n",
      " 02-14 \n",
      " 0535 \n",
      "\n",
      "BC-<COREF ID=\"1\">PANTEX</COREF>-<COREF ID=\"2\">FLIGHTS</COREF>-TEX\n",
      "FAA UNDERESTIMATED NUMBER OF FLIGHTS OVER PLUTONIUM STORAGE AREA IN\n",
      "PANHANDLE\n",
      "(For use by NYTimes News Service clients)\n",
      "By HOLLACE WEINER\n",
      "c.1996 Fort Worth Star-Telegram\n",
      "\n",
      "\n",
      "\n",
      "The <COREF ID=\"4\">Federal Aviation Administration</COREF> underestimated <COREF ID=\"5\">the number</COREF> of\n",
      "aircraft flying over the <COREF ID=\"7\">Pantex Weapons Plant</COREF> outside Amarillo,\n",
      "Texas, where much of the nation's surplus <COREF ID=\"8\" REF=\"41\">plutonium</COREF> is stored,\n",
      "according to computerized studies under way by the Energy\n",
      "Department.\n",
      "\n",
      "\n",
      "The <COREF ID=\"9\" REF=\"4\">FAA</COREF> counted each flight at Amarillo International Airport\n",
      "once. But military training planes make up to 30 <COREF ID=\"10\">passes</COREF> per <COREF ID=\"11\" REF=\"21\">flight</COREF>\n",
      "over <COREF ID=\"12\" REF=\"74\">the plant</COREF>, according to the Defense Nuclear Facilities Safety\n",
      "Board.\n",
      "\n",
      "\n",
      "The secretary of <COREF ID=\"13\">Energy</COREF> and local farmers have expressed concern\n",
      "that a plane crash into a plutonium storage bunker at Pantex could\n",
      "spread radioactive smoke for miles. <COREF ID=\"17\">Plutonium</COREF>, <COREF ID=\"18\">a highly radioactive\n",
      "element</COREF>, causes cancer if inhaled.\n",
      "\n",
      "\n",
      "The risk of that scenario, previously estimated at <COREF ID=\"20\">one chance in\n",
      "10 million</COREF>, is expected to increase when current <COREF ID=\"21\" REF=\"11\">flight</COREF> data are\n",
      "analyzed later <COREF ID=\"22\">this year</COREF>, according to <COREF ID=\"23\">a safety board</COREF> memo dated\n",
      "May 2.\n",
      "\n",
      "\n",
      "``This doesn't surprise me at all,'' said <COREF ID=\"24\">Trish Neusch</COREF>, who\n",
      "farms land near the plant 17 miles northeast of <COREF ID=\"26\" REF=\"65\">Amarillo</COREF> and 7\n",
      "miles from <COREF ID=\"27\">the airport</COREF>. ``We are out <COREF ID=\"28\">there</COREF> and see <COREF ID=\"29\" REF=\"68\">these planes</COREF> all\n",
      "the time.''\n",
      "\n",
      "\n",
      "Mike McNulty, <COREF ID=\"30\">the FAA air traffic manager</COREF> at Amarillo\n",
      "International, said the previous aircraft count, conducted in late\n",
      "1994, was <COREF ID=\"34\">a ``manual count on a pad,''</COREF> done informally by air\n",
      "traffic controllers.\n",
      "\n",
      "\n",
      "<COREF ID=\"35\">That 60-day accounting</COREF> estimated that <COREF ID=\"36\">25 planes a day</COREF> entered\n",
      "flight patterns over the zone where plutonium is stored in concrete bunkers covered with earth and grass.\n",
      "\n",
      "\n",
      "<COREF ID=\"39\">Pantex</COREF> is operated by <COREF ID=\"40\">the Energy Department</COREF> through a private\n",
      "contractor and employs 3,600 workers, whose main mission is to\n",
      "dismantle nuclear warheads. The hollow <COREF ID=\"41\" REF=\"8\">plutonium</COREF> ball at the core\n",
      "of each weapon is stored at <COREF ID=\"42\">the former weapons assembly plant</COREF>.\n",
      "\n",
      "\n",
      "<COREF ID=\"43\">The Amarillo airport</COREF> averages 250 takeoffs and landings per day,\n",
      "<COREF ID=\"45\" REF=\"75\">McNulty</COREF> said. About half the aircraft are <COREF ID=\"47\">military planes</COREF> assigned\n",
      "to Air Force bases in <COREF ID=\"48\">Texas</COREF>, Oklahoma, Kansas and New Mexico, <COREF ID=\"49\" REF=\"59\">he</COREF>\n",
      "said.\n",
      "\n",
      "\n",
      "<COREF ID=\"50\">About 25 percent of the airport traffic</COREF> enters <COREF ID=\"53\">a flight pattern\n",
      "over the plutonium storage bunkers</COREF>, <COREF ID=\"56\" REF=\"75\">McNulty</COREF> said. For the past 14\n",
      "months, <COREF ID=\"57\">air traffic controllers</COREF> have tried to steer planes away\n",
      "from <COREF ID=\"79\">the bunkers</COREF>, <COREF ID=\"59\" REF=\"66\">he</COREF> said.\n",
      "\n",
      "\n",
      "Two of the <COREF ID=\"60\">airport</COREF>'s dozen flight paths are directly above <COREF ID=\"61\">the\n",
      "nuclear storage area</COREF>, <COREF ID=\"62\" REF=\"75\">McNulty</COREF> said. One approach will be eliminated\n",
      "by late summer or early fall when a new instrument landing system is installed, <COREF ID=\"63\" REF=\"59\">he</COREF> said.\n",
      "\n",
      "\n",
      "The second flight path cannot be altered until sophisticated\n",
      "equipment, called <COREF ID=\"64\">VORTAC</COREF>, is phased out at Dallas/Fort Worth\n",
      "Airport and installed in <COREF ID=\"65\" REF=\"26\">Amarillo</COREF>, <COREF ID=\"66\" REF=\"59\">he</COREF> said. There is no target date\n",
      "for the transition.\n",
      "\n",
      "\n",
      "<COREF ID=\"67\" REF=\"75\">McNulty</COREF> downplayed the dangers posed by some military traffic by\n",
      "noting that <COREF ID=\"68\" REF=\"29\">these planes</COREF> often fly at high altitudes and stay 2 to\n",
      "8 miles from <COREF ID=\"69\">the plutonium area</COREF>.\n",
      "\n",
      "\n",
      "``They are counting something at 35,000 as well as 500 feet,\n",
      "when in actuality a plane would have to start falling in <COREF ID=\"73\">Oklahoma</COREF>\n",
      "to hit <COREF ID=\"74\" REF=\"12\">the plant</COREF>,'' <COREF ID=\"75\" REF=\"45\">McNulty</COREF> said. ``<COREF ID=\"76\">They</COREF> are just collecting a lot\n",
      "of raw data.''\n",
      "\n",
      "\n",
      "\n",
      "NYT-<COREF ID=\"77\">02-14-96</COREF> 2111EST\n",
      "\n",
      "</TXT>\n",
      "None\n"
     ]
    }
   ],
   "source": [
    "#Print out the entire XML document\n",
    "print ET.dump(tree)"
   ]
  },
  {
   "cell_type": "code",
   "execution_count": 21,
   "metadata": {
    "collapsed": false
   },
   "outputs": [],
   "source": []
  },
  {
   "cell_type": "code",
   "execution_count": 22,
   "metadata": {
    "collapsed": false
   },
   "outputs": [
    {
     "name": "stdout",
     "output_type": "stream",
     "text": [
      "\n",
      " nyt960214.0765 \n",
      " A4505 \n",
      " BC-PANTEX-FLIGHTS-TEX \n",
      " 02-14 \n",
      " 0535 \n",
      "\n",
      "BC-PANTEX-FLIGHTS-TEX\n",
      "FAA UNDERESTIMATED NUMBER OF FLIGHTS OVER PLUTONIUM STORAGE AREA IN\n",
      "PANHANDLE\n",
      "(For use by NYTimes News Service clients)\n",
      "By HOLLACE WEINER\n",
      "c.1996 Fort Worth Star-Telegram\n",
      "\n",
      "\n",
      "\n",
      "The Federal Aviation Administration underestimated the number of\n",
      "aircraft flying over the Pantex Weapons Plant outside Amarillo,\n",
      "Texas, where much of the nation's surplus plutonium is stored,\n",
      "according to computerized studies under way by the Energy\n",
      "Department.\n",
      "\n",
      "\n",
      "The FAA counted each flight at Amarillo International Airport\n",
      "once. But military training planes make up to 30 passes per flight\n",
      "over the plant, according to the Defense Nuclear Facilities Safety\n",
      "Board.\n",
      "\n",
      "\n",
      "The secretary of Energy and local farmers have expressed concern\n",
      "that a plane crash into a plutonium storage bunker at Pantex could\n",
      "spread radioactive smoke for miles. Plutonium, a highly radioactive\n",
      "element, causes cancer if inhaled.\n",
      "\n",
      "\n",
      "The risk of that scenario, previously estimated at one chance in\n",
      "10 million, is expected to increase when current flight data are\n",
      "analyzed later this year, according to a safety board memo dated\n",
      "May 2.\n",
      "\n",
      "\n",
      "``This doesn't surprise me at all,'' said Trish Neusch, who\n",
      "farms land near the plant 17 miles northeast of Amarillo and 7\n",
      "miles from the airport. ``We are out there and see these planes all\n",
      "the time.''\n",
      "\n",
      "\n",
      "Mike McNulty, the FAA air traffic manager at Amarillo\n",
      "International, said the previous aircraft count, conducted in late\n",
      "1994, was a ``manual count on a pad,'' done informally by air\n",
      "traffic controllers.\n",
      "\n",
      "\n",
      "That 60-day accounting estimated that 25 planes a day entered\n",
      "flight patterns over the zone where plutonium is stored in concrete bunkers covered with earth and grass.\n",
      "\n",
      "\n",
      "Pantex is operated by the Energy Department through a private\n",
      "contractor and employs 3,600 workers, whose main mission is to\n",
      "dismantle nuclear warheads. The hollow plutonium ball at the core\n",
      "of each weapon is stored at the former weapons assembly plant.\n",
      "\n",
      "\n",
      "The Amarillo airport averages 250 takeoffs and landings per day,\n",
      "McNulty said. About half the aircraft are military planes assigned\n",
      "to Air Force bases in Texas, Oklahoma, Kansas and New Mexico, he\n",
      "said.\n",
      "\n",
      "\n",
      "About 25 percent of the airport traffic enters a flight pattern\n",
      "over the plutonium storage bunkers, McNulty said. For the past 14\n",
      "months, air traffic controllers have tried to steer planes away\n",
      "from the bunkers, he said.\n",
      "\n",
      "\n",
      "Two of the airport's dozen flight paths are directly above the\n",
      "nuclear storage area, McNulty said. One approach will be eliminated\n",
      "by late summer or early fall when a new instrument landing system is installed, he said.\n",
      "\n",
      "\n",
      "The second flight path cannot be altered until sophisticated\n",
      "equipment, called VORTAC, is phased out at Dallas/Fort Worth\n",
      "Airport and installed in Amarillo, he said. There is no target date\n",
      "for the transition.\n",
      "\n",
      "\n",
      "McNulty downplayed the dangers posed by some military traffic by\n",
      "noting that these planes often fly at high altitudes and stay 2 to\n",
      "8 miles from the plutonium area.\n",
      "\n",
      "\n",
      "``They are counting something at 35,000 as well as 500 feet,\n",
      "when in actuality a plane would have to start falling in Oklahoma\n",
      "to hit the plant,'' McNulty said. ``They are just collecting a lot\n",
      "of raw data.''\n",
      "\n",
      "\n",
      "\n",
      "NYT-02-14-96 2111EST\n",
      "\n",
      "\n"
     ]
    }
   ],
   "source": [
    "print notags"
   ]
  },
  {
   "cell_type": "code",
   "execution_count": null,
   "metadata": {
    "collapsed": false
   },
   "outputs": [],
   "source": []
  },
  {
   "cell_type": "code",
   "execution_count": null,
   "metadata": {
    "collapsed": false
   },
   "outputs": [],
   "source": []
  },
  {
   "cell_type": "code",
   "execution_count": null,
   "metadata": {
    "collapsed": false
   },
   "outputs": [],
   "source": []
  },
  {
   "cell_type": "code",
   "execution_count": null,
   "metadata": {
    "collapsed": false
   },
   "outputs": [],
   "source": []
  },
  {
   "cell_type": "code",
   "execution_count": null,
   "metadata": {
    "collapsed": false
   },
   "outputs": [],
   "source": []
  },
  {
   "cell_type": "markdown",
   "metadata": {},
   "source": [
    "I thought I may use these but as I think things through, these probably won't be used."
   ]
  },
  {
   "cell_type": "code",
   "execution_count": null,
   "metadata": {
    "collapsed": true
   },
   "outputs": [],
   "source": [
    "#The defined functions I've looked at so far\n",
    "\n",
    "#Adds a REF value for the XML node with a specific ID. Probably won't end up using this.\n",
    "def setReference(ID,REF):\n",
    "    for co in root.iter('COREF'):\n",
    "        coID = co.attrib['ID']\n",
    "        if coID == ID:\n",
    "            co.set('REF',REF)\n",
    "\n",
    "\n",
    "        \n",
    "        "
   ]
  },
  {
   "cell_type": "code",
   "execution_count": null,
   "metadata": {
    "collapsed": true
   },
   "outputs": [],
   "source": [
    "for cr in coref:\n",
    "    print coref[cr]\n",
    "    \n",
    "for cr in corefs:\n",
    "    print cr\n",
    "    \n",
    "#Prints out the Corefs just to check the values\n",
    "for child in root:\n",
    "    print child.attrib, child.text\n",
    "    \n",
    "#Saving the full text of the file to fullText\n",
    "with open(devFile, 'r') as myfile:\n",
    "    fullText=myfile.read()"
   ]
  }
 ],
 "metadata": {
  "kernelspec": {
   "display_name": "Python 2",
   "language": "python",
   "name": "python2"
  },
  "language_info": {
   "codemirror_mode": {
    "name": "ipython",
    "version": 2
   },
   "file_extension": ".py",
   "mimetype": "text/x-python",
   "name": "python",
   "nbconvert_exporter": "python",
   "pygments_lexer": "ipython2",
   "version": "2.7.11"
  }
 },
 "nbformat": 4,
 "nbformat_minor": 0
}
