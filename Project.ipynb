{
 "cells": [
  {
   "cell_type": "code",
   "execution_count": 1,
   "metadata": {
    "collapsed": true
   },
   "outputs": [],
   "source": [
    "#XML Library\n",
    "import xml.etree.ElementTree as ET"
   ]
  },
  {
   "cell_type": "code",
   "execution_count": 2,
   "metadata": {
    "collapsed": true
   },
   "outputs": [],
   "source": [
    "#To start I am just using a8.crf to test things out\n",
    "devFile = \"./dev/a8.crf\""
   ]
  },
  {
   "cell_type": "code",
   "execution_count": 3,
   "metadata": {
    "collapsed": false
   },
   "outputs": [],
   "source": [
    "#Create XML structure\n",
    "tree = ET.parse(open(devFile))\n",
    "root = tree.getroot()"
   ]
  },
  {
   "cell_type": "markdown",
   "metadata": {},
   "source": [
    "The slides on coreference contain the following:\n",
    "Typical Coreference Pipeline\n",
    "-Preprocessor: XML removal, tokenization, sentence and paragraph splitting\n",
    "-Part of Speech Tagging\n",
    "-Parsing\n",
    "-Named Entity Recognizer\n",
    "-Semantic Class Lookup (usualy via WordNet)\n",
    "-Candidate NP extraction\n",
    "-Supervised Learning\n",
    "-Clustering into Chains"
   ]
  },
  {
   "cell_type": "code",
   "execution_count": 4,
   "metadata": {
    "collapsed": true
   },
   "outputs": [],
   "source": [
    "#Part of Speech Tagging to Identify Nouns, Noun Phrases, and Pronouns"
   ]
  },
  {
   "cell_type": "code",
   "execution_count": 5,
   "metadata": {
    "collapsed": true
   },
   "outputs": [],
   "source": [
    "#Create a dictionary and the list of each coreference\n",
    "#I'm not sure which is more practical or if either is even needed\n",
    "def createCoref():\n",
    "    global root\n",
    "    for child in root:\n",
    "        coref[str(child.get('ID'))] = child.text\n",
    "        corefs.append(child.text)"
   ]
  },
  {
   "cell_type": "code",
   "execution_count": 1,
   "metadata": {
    "collapsed": true
   },
   "outputs": [],
   "source": [
    "#Given text and the coref ID, checks to see if any other coref has the exact same text\n",
    "#If so, sets found to True and sets REF to the ID of the coreference that it matches\n",
    "def checkExactMatch(coRefText, coID):\n",
    "    for cr in coref:\n",
    "        if coref[cr] == coRefText and str(cr) != coID:\n",
    "            #print \"have a match\"\n",
    "            #print \"the coRefText is: \" + coRefText + \" the coID is: \" + coID + \" the matched is \" + cr\n",
    "            global REF\n",
    "            global found \n",
    "            found = True\n",
    "            REF = cr"
   ]
  },
  {
   "cell_type": "code",
   "execution_count": 7,
   "metadata": {
    "collapsed": true
   },
   "outputs": [],
   "source": [
    "#Checks to see if the coref has potential for an acronym (actually an initialism) \n",
    "#and if that acronym is used\n",
    "def checkAcronym(coRefText, coID):\n",
    "    #Check if the coref is all caps\n",
    "    if coRefText.isupper():\n",
    "        #check list of corefs to see if any of them could match\n",
    "        for cr in coref:\n",
    "            words = str(coref[cr])\n",
    "            acr = \"\"\n",
    "            #check if coref is more than one word\n",
    "            if len(words.split()) > 1:\n",
    "                #Get the first letter of each word and build candidate acronym\n",
    "                for word in words.split():\n",
    "                    acr += word[0]\n",
    "                #If candidate acronym matches coref, assign the REF\n",
    "                if acr == coRefText:\n",
    "                    global REF\n",
    "                    global found\n",
    "                    found = True\n",
    "                    REF = cr"
   ]
  },
  {
   "cell_type": "code",
   "execution_count": 8,
   "metadata": {
    "collapsed": true
   },
   "outputs": [],
   "source": [
    "#Create Coref variables\n",
    "coref = {}\n",
    "corefs = []\n",
    "createCoref()"
   ]
  },
  {
   "cell_type": "code",
   "execution_count": 9,
   "metadata": {
    "collapsed": false
   },
   "outputs": [],
   "source": [
    "#Loop through each coref to assign ref\n",
    "for co in root.iter('COREF'):\n",
    "    coID = co.attrib['ID']\n",
    "    coRefText = co.text\n",
    "    REF = ''\n",
    "    found = False\n",
    "    \n",
    "    # Find the correct REF\n",
    "    \n",
    "    #### Check String Match ####\n",
    "    # check exact match in other corefs\n",
    "    checkExactMatch(coRefText, coID)\n",
    "    if found == True:\n",
    "        co.set('REF',REF)\n",
    "        continue \n",
    "    \n",
    "    #check acronyms\n",
    "    checkAcronym(coRefText, coID)\n",
    "    if found == True:\n",
    "        co.set('REF',REF)\n",
    "        continue \n",
    "    # check head noun match\n",
    "    # check substring and partial match\n",
    "    # check word overlap comparisons\n",
    "    \n",
    "    #### Check Lexical Similarity\n",
    "    # i.e. Ford Motor Company = Ford Co. = Ford\n",
    "    # i.e. Apple Computer = Apple\n",
    "    # i.e. Federabl Bureau of Investigation = FBI\n",
    "    \n",
    "    #### Look through candidate list of Nouns checking using\n",
    "    # scoping heuristics and recency\n",
    "    # number, person, and gender agreement\n",
    "    # sytactic heuristics\n",
    "    # semantic compatability\n",
    "    \n",
    "    # Set the REF value\n",
    "    "
   ]
  },
  {
   "cell_type": "code",
   "execution_count": null,
   "metadata": {
    "collapsed": false
   },
   "outputs": [],
   "source": []
  },
  {
   "cell_type": "code",
   "execution_count": 10,
   "metadata": {
    "collapsed": false
   },
   "outputs": [
    {
     "name": "stdout",
     "output_type": "stream",
     "text": [
      "<TXT>\n",
      " nyt960214.0765 \n",
      " A4505 \n",
      " BC-PANTEX-FLIGHTS-TEX \n",
      " 02-14 \n",
      " 0535 \n",
      "\n",
      "BC-<COREF ID=\"1\">PANTEX</COREF>-<COREF ID=\"2\">FLIGHTS</COREF>-TEX\n",
      "FAA UNDERESTIMATED NUMBER OF FLIGHTS OVER PLUTONIUM STORAGE AREA IN\n",
      "PANHANDLE\n",
      "(For use by NYTimes News Service clients)\n",
      "By HOLLACE WEINER\n",
      "c.1996 Fort Worth Star-Telegram\n",
      "\n",
      "\n",
      "\n",
      "The <COREF ID=\"4\">Federal Aviation Administration</COREF> underestimated <COREF ID=\"5\">the number</COREF> of\n",
      "aircraft flying over the <COREF ID=\"7\">Pantex Weapons Plant</COREF> outside Amarillo,\n",
      "Texas, where much of the nation's surplus <COREF ID=\"8\" REF=\"41\">plutonium</COREF> is stored,\n",
      "according to computerized studies under way by the Energy\n",
      "Department.\n",
      "\n",
      "\n",
      "The <COREF ID=\"9\" REF=\"4\">FAA</COREF> counted each flight at Amarillo International Airport\n",
      "once. But military training planes make up to 30 <COREF ID=\"10\">passes</COREF> per <COREF ID=\"11\">flight</COREF>\n",
      "over <COREF ID=\"12\">the plant</COREF>, according to the Defense Nuclear Facilities Safety\n",
      "Board.\n",
      "\n",
      "\n",
      "The secretary of <COREF ID=\"13\">Energy</COREF> and local farmers have expressed concern\n",
      "that a plane crash into a plutonium storage bunker at Pantex could\n",
      "spread radioactive smoke for miles. <COREF ID=\"17\">Plutonium</COREF>, <COREF ID=\"18\">a highly radioactive\n",
      "element</COREF>, causes cancer if inhaled.\n",
      "\n",
      "\n",
      "The risk of that scenario, previously estimated at <COREF ID=\"20\">one chance in\n",
      "10 million</COREF>, is expected to increase when current <COREF ID=\"21\" REF=\"11\">flight</COREF> data are\n",
      "analyzed later <COREF ID=\"22\">this year</COREF>, according to <COREF ID=\"23\">a safety board</COREF> memo dated\n",
      "May 2.\n",
      "\n",
      "\n",
      "``This doesn't surprise me at all,'' said <COREF ID=\"24\">Trish Neusch</COREF>, who\n",
      "farms land near the plant 17 miles northeast of <COREF ID=\"26\">Amarillo</COREF> and 7\n",
      "miles from <COREF ID=\"27\">the airport</COREF>. ``We are out <COREF ID=\"28\">there</COREF> and see <COREF ID=\"29\">these planes</COREF> all\n",
      "the time.''\n",
      "\n",
      "\n",
      "Mike McNulty, <COREF ID=\"30\">the FAA air traffic manager</COREF> at Amarillo\n",
      "International, said the previous aircraft count, conducted in late\n",
      "1994, was <COREF ID=\"34\">a ``manual count on a pad,''</COREF> done informally by air\n",
      "traffic controllers.\n",
      "\n",
      "\n",
      "<COREF ID=\"35\">That 60-day accounting</COREF> estimated that <COREF ID=\"36\">25 planes a day</COREF> entered\n",
      "flight patterns over the zone where plutonium is stored in concrete bunkers covered with earth and grass.\n",
      "\n",
      "\n",
      "<COREF ID=\"39\">Pantex</COREF> is operated by <COREF ID=\"40\">the Energy Department</COREF> through a private\n",
      "contractor and employs 3,600 workers, whose main mission is to\n",
      "dismantle nuclear warheads. The hollow <COREF ID=\"41\">plutonium</COREF> ball at the core\n",
      "of each weapon is stored at <COREF ID=\"42\">the former weapons assembly plant</COREF>.\n",
      "\n",
      "\n",
      "<COREF ID=\"43\">The Amarillo airport</COREF> averages 250 takeoffs and landings per day,\n",
      "<COREF ID=\"45\">McNulty</COREF> said. About half the aircraft are <COREF ID=\"47\">military planes</COREF> assigned\n",
      "to Air Force bases in <COREF ID=\"48\">Texas</COREF>, Oklahoma, Kansas and New Mexico, <COREF ID=\"49\">he</COREF>\n",
      "said.\n",
      "\n",
      "\n",
      "<COREF ID=\"50\">About 25 percent of the airport traffic</COREF> enters <COREF ID=\"53\">a flight pattern\n",
      "over the plutonium storage bunkers</COREF>, <COREF ID=\"56\" REF=\"45\">McNulty</COREF> said. For the past 14\n",
      "months, <COREF ID=\"57\">air traffic controllers</COREF> have tried to steer planes away\n",
      "from <COREF ID=\"79\">the bunkers</COREF>, <COREF ID=\"59\" REF=\"49\">he</COREF> said.\n",
      "\n",
      "\n",
      "Two of the <COREF ID=\"60\">airport</COREF>'s dozen flight paths are directly above <COREF ID=\"61\">the\n",
      "nuclear storage area</COREF>, <COREF ID=\"62\" REF=\"45\">McNulty</COREF> said. One approach will be eliminated\n",
      "by late summer or early fall when a new instrument landing system is installed, <COREF ID=\"63\" REF=\"59\">he</COREF> said.\n",
      "\n",
      "\n",
      "The second flight path cannot be altered until sophisticated\n",
      "equipment, called <COREF ID=\"64\">VORTAC</COREF>, is phased out at Dallas/Fort Worth\n",
      "Airport and installed in <COREF ID=\"65\" REF=\"26\">Amarillo</COREF>, <COREF ID=\"66\" REF=\"59\">he</COREF> said. There is no target date\n",
      "for the transition.\n",
      "\n",
      "\n",
      "<COREF ID=\"67\" REF=\"45\">McNulty</COREF> downplayed the dangers posed by some military traffic by\n",
      "noting that <COREF ID=\"68\" REF=\"29\">these planes</COREF> often fly at high altitudes and stay 2 to\n",
      "8 miles from <COREF ID=\"69\">the plutonium area</COREF>.\n",
      "\n",
      "\n",
      "``They are counting something at 35,000 as well as 500 feet,\n",
      "when in actuality a plane would have to start falling in <COREF ID=\"73\">Oklahoma</COREF>\n",
      "to hit <COREF ID=\"74\" REF=\"12\">the plant</COREF>,'' <COREF ID=\"75\" REF=\"45\">McNulty</COREF> said. ``<COREF ID=\"76\">They</COREF> are just collecting a lot\n",
      "of raw data.''\n",
      "\n",
      "\n",
      "\n",
      "NYT-<COREF ID=\"77\">02-14-96</COREF> 2111EST\n",
      "\n",
      "</TXT>\n",
      "None\n"
     ]
    }
   ],
   "source": [
    "#Print out the entire XML document\n",
    "print ET.dump(tree)"
   ]
  },
  {
   "cell_type": "code",
   "execution_count": null,
   "metadata": {
    "collapsed": true
   },
   "outputs": [],
   "source": []
  },
  {
   "cell_type": "code",
   "execution_count": null,
   "metadata": {
    "collapsed": false
   },
   "outputs": [],
   "source": []
  },
  {
   "cell_type": "code",
   "execution_count": null,
   "metadata": {
    "collapsed": false
   },
   "outputs": [],
   "source": []
  },
  {
   "cell_type": "code",
   "execution_count": null,
   "metadata": {
    "collapsed": false
   },
   "outputs": [],
   "source": []
  },
  {
   "cell_type": "code",
   "execution_count": null,
   "metadata": {
    "collapsed": false
   },
   "outputs": [],
   "source": []
  },
  {
   "cell_type": "code",
   "execution_count": null,
   "metadata": {
    "collapsed": false
   },
   "outputs": [],
   "source": []
  },
  {
   "cell_type": "code",
   "execution_count": null,
   "metadata": {
    "collapsed": false
   },
   "outputs": [],
   "source": []
  },
  {
   "cell_type": "markdown",
   "metadata": {},
   "source": [
    "I thought I may use these but as I think things through, these probably won't be used."
   ]
  },
  {
   "cell_type": "code",
   "execution_count": null,
   "metadata": {
    "collapsed": true
   },
   "outputs": [],
   "source": [
    "#The defined functions I've looked at so far\n",
    "\n",
    "#Adds a REF value for the XML node with a specific ID. Probably won't end up using this.\n",
    "def setReference(ID,REF):\n",
    "    for co in root.iter('COREF'):\n",
    "        coID = co.attrib['ID']\n",
    "        if coID == ID:\n",
    "            co.set('REF',REF)\n",
    "\n",
    "\n",
    "        \n",
    "        "
   ]
  },
  {
   "cell_type": "code",
   "execution_count": null,
   "metadata": {
    "collapsed": true
   },
   "outputs": [],
   "source": [
    "for cr in coref:\n",
    "    print coref[cr]\n",
    "    \n",
    "for cr in corefs:\n",
    "    print cr\n",
    "    \n",
    "#Prints out the Corefs just to check the values\n",
    "for child in root:\n",
    "    print child.attrib, child.text\n",
    "    \n",
    "#Saving the full text of the file to fullText\n",
    "with open(devFile, 'r') as myfile:\n",
    "    fullText=myfile.read()"
   ]
  }
 ],
 "metadata": {
  "kernelspec": {
   "display_name": "Python 2",
   "language": "python",
   "name": "python2"
  },
  "language_info": {
   "codemirror_mode": {
    "name": "ipython",
    "version": 2
   },
   "file_extension": ".py",
   "mimetype": "text/x-python",
   "name": "python",
   "nbconvert_exporter": "python",
   "pygments_lexer": "ipython2",
   "version": "2.7.11"
  }
 },
 "nbformat": 4,
 "nbformat_minor": 0
}
